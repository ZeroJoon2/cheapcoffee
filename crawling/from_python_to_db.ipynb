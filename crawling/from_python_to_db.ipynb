{
 "cells": [
  {
   "cell_type": "code",
   "execution_count": 1,
   "metadata": {},
   "outputs": [],
   "source": [
    "import numpy as np\n",
    "import pandas as pd\n",
    "import pymysql\n",
    "import pyodbc\n",
    "import os\n",
    "from dotenv import load_dotenv\n",
    "import csv"
   ]
  },
  {
   "cell_type": "markdown",
   "metadata": {},
   "source": [
    "### 전처리"
   ]
  },
  {
   "cell_type": "markdown",
   "metadata": {},
   "source": [
    "#### 컴포즈"
   ]
  },
  {
   "cell_type": "code",
   "execution_count": 2,
   "metadata": {},
   "outputs": [],
   "source": [
    "# 파일 불러오기\n",
    "compose_df = pd.read_csv('./compose/compose.csv', encoding='cp949')\n",
    "\n",
    "# 컬럼 이름 변경\n",
    "compose_df.rename(columns={\n",
    "    compose_df.columns[2] : 'francise_addr',\n",
    "    compose_df.columns[3] : 'francise_tel'\n",
    "    }, inplace= True)\n",
    "\n",
    "\n",
    "compose_df_ver2 = compose_df[\n",
    "    compose_df.columns[1:]\n",
    "]\n"
   ]
  },
  {
   "cell_type": "code",
   "execution_count": 3,
   "metadata": {},
   "outputs": [
    {
     "name": "stdout",
     "output_type": "stream",
     "text": [
      "0\n",
      "0\n",
      "490\n"
     ]
    }
   ],
   "source": [
    "# 결측치를 처리하자 !\n",
    "\n",
    "# 지점명\n",
    "print(\n",
    "    compose_df_ver2[compose_df_ver2[compose_df_ver2.columns[0]].isna() == True].shape[0]\n",
    "    )\n",
    "\n",
    "# 주소\n",
    "print(\n",
    "    compose_df_ver2[compose_df_ver2[compose_df_ver2.columns[1]].isna() == True].shape[0]\n",
    "    )\n",
    "\n",
    "# 전화번호\n",
    "print(\n",
    "    compose_df_ver2[compose_df_ver2[compose_df_ver2.columns[2]].isna() == True].shape[0]\n",
    "    )\n",
    "    \n"
   ]
  },
  {
   "cell_type": "code",
   "execution_count": 4,
   "metadata": {},
   "outputs": [
    {
     "name": "stderr",
     "output_type": "stream",
     "text": [
      "C:\\Users\\Public\\Documents\\ESTsoft\\CreatorTemp\\ipykernel_24256\\449856285.py:2: SettingWithCopyWarning: \n",
      "A value is trying to be set on a copy of a slice from a DataFrame\n",
      "\n",
      "See the caveats in the documentation: https://pandas.pydata.org/pandas-docs/stable/user_guide/indexing.html#returning-a-view-versus-a-copy\n",
      "  compose_df_ver2.replace({np.nan : 'NULL'}, inplace= True)\n"
     ]
    }
   ],
   "source": [
    "#NaN을 NULL로 처리(왜냐하면 MySQL은 NaN을 처리할 수 없기에 진행 필요)\n",
    "compose_df_ver2.replace({np.nan : 'NULL'}, inplace= True)"
   ]
  },
  {
   "cell_type": "code",
   "execution_count": 6,
   "metadata": {},
   "outputs": [
    {
     "data": {
      "text/html": [
       "<div>\n",
       "<style scoped>\n",
       "    .dataframe tbody tr th:only-of-type {\n",
       "        vertical-align: middle;\n",
       "    }\n",
       "\n",
       "    .dataframe tbody tr th {\n",
       "        vertical-align: top;\n",
       "    }\n",
       "\n",
       "    .dataframe thead th {\n",
       "        text-align: right;\n",
       "    }\n",
       "</style>\n",
       "<table border=\"1\" class=\"dataframe\">\n",
       "  <thead>\n",
       "    <tr style=\"text-align: right;\">\n",
       "      <th></th>\n",
       "      <th>francise_name</th>\n",
       "      <th>francise_addr</th>\n",
       "      <th>francise_tel</th>\n",
       "    </tr>\n",
       "  </thead>\n",
       "  <tbody>\n",
       "    <tr>\n",
       "      <th>1</th>\n",
       "      <td>경기광주밀목점</td>\n",
       "      <td>경기 광주시 중앙로 327</td>\n",
       "      <td>NULL</td>\n",
       "    </tr>\n",
       "    <tr>\n",
       "      <th>2</th>\n",
       "      <td>수원시청역점</td>\n",
       "      <td>경기 수원시 팔달구 효원로 278 파비오더씨타 109호</td>\n",
       "      <td>NULL</td>\n",
       "    </tr>\n",
       "    <tr>\n",
       "      <th>8</th>\n",
       "      <td>당정역점</td>\n",
       "      <td>경기 군포시 고산로211번길 31 1층 107호</td>\n",
       "      <td>NULL</td>\n",
       "    </tr>\n",
       "    <tr>\n",
       "      <th>18</th>\n",
       "      <td>마천중앙시장점</td>\n",
       "      <td>서울 송파구 마천로41길 1</td>\n",
       "      <td>NULL</td>\n",
       "    </tr>\n",
       "    <tr>\n",
       "      <th>24</th>\n",
       "      <td>과천RF사옥점</td>\n",
       "      <td>경기 과천시 과천대로12길 110 제1동 1층 105호</td>\n",
       "      <td>NULL</td>\n",
       "    </tr>\n",
       "    <tr>\n",
       "      <th>...</th>\n",
       "      <td>...</td>\n",
       "      <td>...</td>\n",
       "      <td>...</td>\n",
       "    </tr>\n",
       "    <tr>\n",
       "      <th>2466</th>\n",
       "      <td>진해용원점</td>\n",
       "      <td>경남 창원시 진해구 용원로7번길 9 101호</td>\n",
       "      <td>NULL</td>\n",
       "    </tr>\n",
       "    <tr>\n",
       "      <th>2473</th>\n",
       "      <td>송도힐스테이트점</td>\n",
       "      <td>인천 연수구 컨벤시아대로 90 (송도동, 인천송도힐스테이트)</td>\n",
       "      <td>NULL</td>\n",
       "    </tr>\n",
       "    <tr>\n",
       "      <th>2484</th>\n",
       "      <td>좌동점</td>\n",
       "      <td>부산 해운대구 좌동순환로 174 106호</td>\n",
       "      <td>NULL</td>\n",
       "    </tr>\n",
       "    <tr>\n",
       "      <th>2510</th>\n",
       "      <td>해운대미포점</td>\n",
       "      <td>부산 해운대구 달맞이길62번길 29 삼삼횟집 1층</td>\n",
       "      <td>NULL</td>\n",
       "    </tr>\n",
       "    <tr>\n",
       "      <th>2528</th>\n",
       "      <td>부경대점</td>\n",
       "      <td>부산 남구 용소로21번길 25 1층</td>\n",
       "      <td>NULL</td>\n",
       "    </tr>\n",
       "  </tbody>\n",
       "</table>\n",
       "<p>490 rows × 3 columns</p>\n",
       "</div>"
      ],
      "text/plain": [
       "     francise_name                      francise_addr francise_tel\n",
       "1          경기광주밀목점                    경기 광주시 중앙로 327          NULL\n",
       "2           수원시청역점     경기 수원시 팔달구 효원로 278 파비오더씨타 109호         NULL\n",
       "8             당정역점         경기 군포시 고산로211번길 31 1층 107호         NULL\n",
       "18         마천중앙시장점                   서울 송파구 마천로41길 1          NULL\n",
       "24         과천RF사옥점     경기 과천시 과천대로12길 110 제1동 1층 105호         NULL\n",
       "...            ...                                ...          ...\n",
       "2466         진해용원점           경남 창원시 진해구 용원로7번길 9 101호         NULL\n",
       "2473      송도힐스테이트점  인천 연수구 컨벤시아대로 90 (송도동, 인천송도힐스테이트)         NULL\n",
       "2484           좌동점             부산 해운대구 좌동순환로 174 106호         NULL\n",
       "2510        해운대미포점        부산 해운대구 달맞이길62번길 29 삼삼횟집 1층         NULL\n",
       "2528          부경대점                부산 남구 용소로21번길 25 1층         NULL\n",
       "\n",
       "[490 rows x 3 columns]"
      ]
     },
     "execution_count": 6,
     "metadata": {},
     "output_type": "execute_result"
    }
   ],
   "source": [
    "compose_df_ver2[compose_df_ver2[compose_df_ver2.columns[2]] == 'NULL']"
   ]
  },
  {
   "cell_type": "code",
   "execution_count": 7,
   "metadata": {},
   "outputs": [],
   "source": [
    "compose_df_ver2['cafe_gubun'] = 1 #1은 컴포즈"
   ]
  },
  {
   "cell_type": "code",
   "execution_count": 8,
   "metadata": {},
   "outputs": [
    {
     "data": {
      "text/html": [
       "<div>\n",
       "<style scoped>\n",
       "    .dataframe tbody tr th:only-of-type {\n",
       "        vertical-align: middle;\n",
       "    }\n",
       "\n",
       "    .dataframe tbody tr th {\n",
       "        vertical-align: top;\n",
       "    }\n",
       "\n",
       "    .dataframe thead th {\n",
       "        text-align: right;\n",
       "    }\n",
       "</style>\n",
       "<table border=\"1\" class=\"dataframe\">\n",
       "  <thead>\n",
       "    <tr style=\"text-align: right;\">\n",
       "      <th></th>\n",
       "      <th>francise_name</th>\n",
       "      <th>francise_addr</th>\n",
       "      <th>francise_tel</th>\n",
       "      <th>cafe_gubun</th>\n",
       "    </tr>\n",
       "  </thead>\n",
       "  <tbody>\n",
       "    <tr>\n",
       "      <th>0</th>\n",
       "      <td>일산만자고개점</td>\n",
       "      <td>경기 고양시 일산서구 덕이로 225-3 2층 203호</td>\n",
       "      <td>031-911-0667</td>\n",
       "      <td>1</td>\n",
       "    </tr>\n",
       "    <tr>\n",
       "      <th>1</th>\n",
       "      <td>경기광주밀목점</td>\n",
       "      <td>경기 광주시 중앙로 327</td>\n",
       "      <td>NULL</td>\n",
       "      <td>1</td>\n",
       "    </tr>\n",
       "    <tr>\n",
       "      <th>2</th>\n",
       "      <td>수원시청역점</td>\n",
       "      <td>경기 수원시 팔달구 효원로 278 파비오더씨타 109호</td>\n",
       "      <td>NULL</td>\n",
       "      <td>1</td>\n",
       "    </tr>\n",
       "    <tr>\n",
       "      <th>3</th>\n",
       "      <td>인천청학용담공원점</td>\n",
       "      <td>인천 연수구 용담로 44 102호</td>\n",
       "      <td>032-221-0032</td>\n",
       "      <td>1</td>\n",
       "    </tr>\n",
       "    <tr>\n",
       "      <th>4</th>\n",
       "      <td>양산경동스마트점</td>\n",
       "      <td>경남 양산시 신덕계로 34 상가동 102호</td>\n",
       "      <td>055-383-8382</td>\n",
       "      <td>1</td>\n",
       "    </tr>\n",
       "    <tr>\n",
       "      <th>...</th>\n",
       "      <td>...</td>\n",
       "      <td>...</td>\n",
       "      <td>...</td>\n",
       "      <td>...</td>\n",
       "    </tr>\n",
       "    <tr>\n",
       "      <th>2524</th>\n",
       "      <td>정관1호점</td>\n",
       "      <td>부산 기장군 정관읍 정관로 385 (모전리)</td>\n",
       "      <td>051-817-4668</td>\n",
       "      <td>1</td>\n",
       "    </tr>\n",
       "    <tr>\n",
       "      <th>2525</th>\n",
       "      <td>부산교대점</td>\n",
       "      <td>부산 연제구 교대로 18 (거제동)</td>\n",
       "      <td>051-506-0355</td>\n",
       "      <td>1</td>\n",
       "    </tr>\n",
       "    <tr>\n",
       "      <th>2526</th>\n",
       "      <td>컴포즈커피 동서대점</td>\n",
       "      <td>부산 사상구 가야대로366번길 13 (주례동)</td>\n",
       "      <td>051-315-8650</td>\n",
       "      <td>1</td>\n",
       "    </tr>\n",
       "    <tr>\n",
       "      <th>2527</th>\n",
       "      <td>동아대점</td>\n",
       "      <td>부산 사하구 낙동대로516번길 48 (하단동, 하단에덴아파트)</td>\n",
       "      <td>051-294-2638</td>\n",
       "      <td>1</td>\n",
       "    </tr>\n",
       "    <tr>\n",
       "      <th>2528</th>\n",
       "      <td>부경대점</td>\n",
       "      <td>부산 남구 용소로21번길 25 1층</td>\n",
       "      <td>NULL</td>\n",
       "      <td>1</td>\n",
       "    </tr>\n",
       "  </tbody>\n",
       "</table>\n",
       "<p>2529 rows × 4 columns</p>\n",
       "</div>"
      ],
      "text/plain": [
       "     francise_name                       francise_addr  francise_tel  \\\n",
       "0          일산만자고개점       경기 고양시 일산서구 덕이로 225-3 2층 203호  031-911-0667   \n",
       "1          경기광주밀목점                     경기 광주시 중앙로 327           NULL   \n",
       "2           수원시청역점      경기 수원시 팔달구 효원로 278 파비오더씨타 109호          NULL   \n",
       "3        인천청학용담공원점                  인천 연수구 용담로 44 102호  032-221-0032   \n",
       "4         양산경동스마트점             경남 양산시 신덕계로 34 상가동 102호  055-383-8382   \n",
       "...            ...                                 ...           ...   \n",
       "2524         정관1호점            부산 기장군 정관읍 정관로 385 (모전리)  051-817-4668   \n",
       "2525         부산교대점                 부산 연제구 교대로 18 (거제동)  051-506-0355   \n",
       "2526    컴포즈커피 동서대점           부산 사상구 가야대로366번길 13 (주례동)  051-315-8650   \n",
       "2527          동아대점  부산 사하구 낙동대로516번길 48 (하단동, 하단에덴아파트)  051-294-2638   \n",
       "2528          부경대점                 부산 남구 용소로21번길 25 1층          NULL   \n",
       "\n",
       "      cafe_gubun  \n",
       "0              1  \n",
       "1              1  \n",
       "2              1  \n",
       "3              1  \n",
       "4              1  \n",
       "...          ...  \n",
       "2524           1  \n",
       "2525           1  \n",
       "2526           1  \n",
       "2527           1  \n",
       "2528           1  \n",
       "\n",
       "[2529 rows x 4 columns]"
      ]
     },
     "execution_count": 8,
     "metadata": {},
     "output_type": "execute_result"
    }
   ],
   "source": [
    "compose_df_ver2"
   ]
  },
  {
   "cell_type": "markdown",
   "metadata": {},
   "source": [
    "#### 메가 커피"
   ]
  },
  {
   "cell_type": "code",
   "execution_count": 9,
   "metadata": {},
   "outputs": [],
   "source": [
    "mega_df = pd.read_csv('mega/mega.csv', encoding= 'cp949')\n",
    "mega_df.rename(columns={\n",
    "                   mega_df.columns[2] : 'francise_addr',\n",
    "                   mega_df.columns[3] : 'francise_tel'\n",
    "                }, inplace = True\n",
    "                )\n",
    "mega_df_ver2 = mega_df[mega_df.columns[1:]]"
   ]
  },
  {
   "cell_type": "code",
   "execution_count": 10,
   "metadata": {},
   "outputs": [
    {
     "name": "stdout",
     "output_type": "stream",
     "text": [
      "0\n",
      "0\n",
      "0\n"
     ]
    }
   ],
   "source": [
    "# 결측치를 처리하자\n",
    "\n",
    "# 컬럼별 결측치 확인\n",
    "# 지점\n",
    "print(mega_df_ver2[mega_df_ver2[mega_df_ver2.columns[0]].isna() == True].shape[0])\n",
    "\n",
    "# 주소\n",
    "print(mega_df_ver2[mega_df_ver2[mega_df_ver2.columns[1]].isna() == True].shape[0])\n",
    "\n",
    "# 전화번호\n",
    "print(mega_df_ver2[mega_df_ver2[mega_df_ver2.columns[2]].isna() == True].shape[0])"
   ]
  },
  {
   "cell_type": "code",
   "execution_count": 11,
   "metadata": {},
   "outputs": [
    {
     "data": {
      "text/html": [
       "<div>\n",
       "<style scoped>\n",
       "    .dataframe tbody tr th:only-of-type {\n",
       "        vertical-align: middle;\n",
       "    }\n",
       "\n",
       "    .dataframe tbody tr th {\n",
       "        vertical-align: top;\n",
       "    }\n",
       "\n",
       "    .dataframe thead th {\n",
       "        text-align: right;\n",
       "    }\n",
       "</style>\n",
       "<table border=\"1\" class=\"dataframe\">\n",
       "  <thead>\n",
       "    <tr style=\"text-align: right;\">\n",
       "      <th></th>\n",
       "      <th>francise_name</th>\n",
       "      <th>francise_addr</th>\n",
       "      <th>francise_tel</th>\n",
       "      <th>cafe_gubun</th>\n",
       "    </tr>\n",
       "  </thead>\n",
       "  <tbody>\n",
       "    <tr>\n",
       "      <th>0</th>\n",
       "      <td>동서울대점</td>\n",
       "      <td>경기 성남시 수정구 복정로 73 (복정동), 1층</td>\n",
       "      <td>031-722-0111</td>\n",
       "      <td>2</td>\n",
       "    </tr>\n",
       "    <tr>\n",
       "      <th>1</th>\n",
       "      <td>동서울터미널점</td>\n",
       "      <td>서울 광진구 강변역로4길 10 (구의동, 강변역지너스타워)</td>\n",
       "      <td>02-454-1003</td>\n",
       "      <td>2</td>\n",
       "    </tr>\n",
       "    <tr>\n",
       "      <th>2</th>\n",
       "      <td>북서울꿈의숲점</td>\n",
       "      <td>서울 성북구 돌곶이로 220 (장위동, 꿈의숲코오롱하늘채아파트), 상가104동 107호</td>\n",
       "      <td>02-912-8982</td>\n",
       "      <td>2</td>\n",
       "    </tr>\n",
       "    <tr>\n",
       "      <th>3</th>\n",
       "      <td>삼육서울병원점</td>\n",
       "      <td>서울특별시 동대문구 망우로 78, 1층(휘경동)</td>\n",
       "      <td>02-2213-2322</td>\n",
       "      <td>2</td>\n",
       "    </tr>\n",
       "    <tr>\n",
       "      <th>4</th>\n",
       "      <td>서서울호수공원점</td>\n",
       "      <td>서울 양천구 남부순환로 432 (신월동)</td>\n",
       "      <td>02-2690-6011</td>\n",
       "      <td>2</td>\n",
       "    </tr>\n",
       "    <tr>\n",
       "      <th>...</th>\n",
       "      <td>...</td>\n",
       "      <td>...</td>\n",
       "      <td>...</td>\n",
       "      <td>...</td>\n",
       "    </tr>\n",
       "    <tr>\n",
       "      <th>3085</th>\n",
       "      <td>제주함덕해수욕장점</td>\n",
       "      <td>제주특별자치도 제주시 조천읍 조함해안로 528, 1층</td>\n",
       "      <td>064-782-0647</td>\n",
       "      <td>2</td>\n",
       "    </tr>\n",
       "    <tr>\n",
       "      <th>3086</th>\n",
       "      <td>제주혁신도시점</td>\n",
       "      <td>제주특별자치도 서귀포시 대청로 34 , (강정동)1층</td>\n",
       "      <td>064-738-0477</td>\n",
       "      <td>2</td>\n",
       "    </tr>\n",
       "    <tr>\n",
       "      <th>3087</th>\n",
       "      <td>서귀포여중점</td>\n",
       "      <td>제주특별자치도 서귀포시 일주동로 8840 (서홍동)</td>\n",
       "      <td>064-762-9777</td>\n",
       "      <td>2</td>\n",
       "    </tr>\n",
       "    <tr>\n",
       "      <th>3088</th>\n",
       "      <td>서귀포효돈점</td>\n",
       "      <td>제주특별자치도 서귀포시 일주동로 8088 , 1층(하효동)</td>\n",
       "      <td>064-767-7778</td>\n",
       "      <td>2</td>\n",
       "    </tr>\n",
       "    <tr>\n",
       "      <th>3089</th>\n",
       "      <td>협재해수욕장점</td>\n",
       "      <td>제주특별자치도 제주시 한림읍 한림로 332-1 (협재리), 1층</td>\n",
       "      <td>064-796-4516</td>\n",
       "      <td>2</td>\n",
       "    </tr>\n",
       "  </tbody>\n",
       "</table>\n",
       "<p>3090 rows × 4 columns</p>\n",
       "</div>"
      ],
      "text/plain": [
       "     francise_name                                     francise_addr  \\\n",
       "0            동서울대점                       경기 성남시 수정구 복정로 73 (복정동), 1층   \n",
       "1          동서울터미널점                  서울 광진구 강변역로4길 10 (구의동, 강변역지너스타워)   \n",
       "2          북서울꿈의숲점  서울 성북구 돌곶이로 220 (장위동, 꿈의숲코오롱하늘채아파트), 상가104동 107호   \n",
       "3          삼육서울병원점                        서울특별시 동대문구 망우로 78, 1층(휘경동)   \n",
       "4         서서울호수공원점                            서울 양천구 남부순환로 432 (신월동)   \n",
       "...            ...                                               ...   \n",
       "3085     제주함덕해수욕장점                     제주특별자치도 제주시 조천읍 조함해안로 528, 1층   \n",
       "3086       제주혁신도시점                     제주특별자치도 서귀포시 대청로 34 , (강정동)1층   \n",
       "3087        서귀포여중점                      제주특별자치도 서귀포시 일주동로 8840 (서홍동)   \n",
       "3088        서귀포효돈점                  제주특별자치도 서귀포시 일주동로 8088 , 1층(하효동)   \n",
       "3089       협재해수욕장점               제주특별자치도 제주시 한림읍 한림로 332-1 (협재리), 1층   \n",
       "\n",
       "      francise_tel  cafe_gubun  \n",
       "0     031-722-0111           2  \n",
       "1      02-454-1003           2  \n",
       "2      02-912-8982           2  \n",
       "3     02-2213-2322           2  \n",
       "4     02-2690-6011           2  \n",
       "...            ...         ...  \n",
       "3085  064-782-0647           2  \n",
       "3086  064-738-0477           2  \n",
       "3087  064-762-9777           2  \n",
       "3088  064-767-7778           2  \n",
       "3089  064-796-4516           2  \n",
       "\n",
       "[3090 rows x 4 columns]"
      ]
     },
     "execution_count": 11,
     "metadata": {},
     "output_type": "execute_result"
    }
   ],
   "source": [
    "# flag 컬럼을 추가하자!\n",
    "mega_df_ver2['cafe_gubun'] = 2 #2는 메가\n",
    "\n",
    "mega_df_ver2"
   ]
  },
  {
   "cell_type": "markdown",
   "metadata": {},
   "source": [
    "#### 빽다방"
   ]
  },
  {
   "cell_type": "code",
   "execution_count": 12,
   "metadata": {},
   "outputs": [],
   "source": [
    "paik_df = pd.read_csv('paik/paik.csv')"
   ]
  },
  {
   "cell_type": "code",
   "execution_count": 13,
   "metadata": {},
   "outputs": [],
   "source": [
    "paik_df.rename(columns={\n",
    "    paik_df.columns[1] : 'francise_name',\n",
    "    paik_df.columns[2] : 'francise_addr',\n",
    "    paik_df.columns[3] : 'francise_tel',\n",
    "    }\n",
    "    , inplace = True)"
   ]
  },
  {
   "cell_type": "code",
   "execution_count": 14,
   "metadata": {},
   "outputs": [],
   "source": [
    "paik_df_ver2 = paik_df[paik_df.columns[1:]]"
   ]
  },
  {
   "cell_type": "code",
   "execution_count": 15,
   "metadata": {},
   "outputs": [
    {
     "name": "stdout",
     "output_type": "stream",
     "text": [
      "0\n",
      "0\n",
      "76\n"
     ]
    }
   ],
   "source": [
    "# 결측치 확인\n",
    "\n",
    "#지점\n",
    "print(\n",
    "    paik_df_ver2[paik_df_ver2[paik_df_ver2.columns[0]].isna() == True]\\\n",
    "    .shape[0]\n",
    "    )\n",
    "\n",
    "print(\n",
    "    paik_df_ver2[paik_df_ver2[paik_df_ver2.columns[1]].isna() == True]\\\n",
    "    .shape[0]\n",
    "    )\n",
    "\n",
    "print(\n",
    "    paik_df_ver2[paik_df_ver2[paik_df_ver2.columns[2]].isna() == True]\\\n",
    "    .shape[0]\n",
    "    )\n"
   ]
  },
  {
   "cell_type": "code",
   "execution_count": 16,
   "metadata": {},
   "outputs": [
    {
     "name": "stderr",
     "output_type": "stream",
     "text": [
      "C:\\Users\\Public\\Documents\\ESTsoft\\CreatorTemp\\ipykernel_24256\\494130795.py:2: SettingWithCopyWarning: \n",
      "A value is trying to be set on a copy of a slice from a DataFrame\n",
      "\n",
      "See the caveats in the documentation: https://pandas.pydata.org/pandas-docs/stable/user_guide/indexing.html#returning-a-view-versus-a-copy\n",
      "  paik_df_ver2.replace({np.nan : 'NULL'}, inplace = True)\n"
     ]
    }
   ],
   "source": [
    "#결측치 NULL 처리\n",
    "paik_df_ver2.replace({np.nan : 'NULL'}, inplace = True)"
   ]
  },
  {
   "cell_type": "code",
   "execution_count": 17,
   "metadata": {},
   "outputs": [
    {
     "data": {
      "text/html": [
       "<div>\n",
       "<style scoped>\n",
       "    .dataframe tbody tr th:only-of-type {\n",
       "        vertical-align: middle;\n",
       "    }\n",
       "\n",
       "    .dataframe tbody tr th {\n",
       "        vertical-align: top;\n",
       "    }\n",
       "\n",
       "    .dataframe thead th {\n",
       "        text-align: right;\n",
       "    }\n",
       "</style>\n",
       "<table border=\"1\" class=\"dataframe\">\n",
       "  <thead>\n",
       "    <tr style=\"text-align: right;\">\n",
       "      <th></th>\n",
       "      <th>francise_name</th>\n",
       "      <th>francise_addr</th>\n",
       "      <th>francise_tel</th>\n",
       "    </tr>\n",
       "  </thead>\n",
       "  <tbody>\n",
       "  </tbody>\n",
       "</table>\n",
       "</div>"
      ],
      "text/plain": [
       "Empty DataFrame\n",
       "Columns: [francise_name, francise_addr, francise_tel]\n",
       "Index: []"
      ]
     },
     "execution_count": 17,
     "metadata": {},
     "output_type": "execute_result"
    }
   ],
   "source": [
    "#결측치 재확인\n",
    "paik_df_ver2[paik_df_ver2[paik_df_ver2.columns[2]].isna() == True]"
   ]
  },
  {
   "cell_type": "code",
   "execution_count": 18,
   "metadata": {},
   "outputs": [],
   "source": [
    "# 컬럼 추가\n",
    "paik_df_ver2['cafe_gubun'] = 3 # 3은 빽다방"
   ]
  },
  {
   "cell_type": "code",
   "execution_count": 19,
   "metadata": {},
   "outputs": [
    {
     "data": {
      "text/html": [
       "<div>\n",
       "<style scoped>\n",
       "    .dataframe tbody tr th:only-of-type {\n",
       "        vertical-align: middle;\n",
       "    }\n",
       "\n",
       "    .dataframe tbody tr th {\n",
       "        vertical-align: top;\n",
       "    }\n",
       "\n",
       "    .dataframe thead th {\n",
       "        text-align: right;\n",
       "    }\n",
       "</style>\n",
       "<table border=\"1\" class=\"dataframe\">\n",
       "  <thead>\n",
       "    <tr style=\"text-align: right;\">\n",
       "      <th></th>\n",
       "      <th>francise_name</th>\n",
       "      <th>francise_addr</th>\n",
       "      <th>francise_tel</th>\n",
       "      <th>cafe_gubun</th>\n",
       "    </tr>\n",
       "  </thead>\n",
       "  <tbody>\n",
       "    <tr>\n",
       "      <th>0</th>\n",
       "      <td>둔촌동역점</td>\n",
       "      <td>서울시 강동구 양재대로 1367</td>\n",
       "      <td>02-478-1205</td>\n",
       "      <td>3</td>\n",
       "    </tr>\n",
       "    <tr>\n",
       "      <th>1</th>\n",
       "      <td>김제모다아울렛점</td>\n",
       "      <td>전북특별자치도 김제시 용지면 콩쥐팥쥐로 844</td>\n",
       "      <td>063-770-8989</td>\n",
       "      <td>3</td>\n",
       "    </tr>\n",
       "    <tr>\n",
       "      <th>2</th>\n",
       "      <td>시흥배곧한라점</td>\n",
       "      <td>경기도 시흥시 서울대학로 172-20</td>\n",
       "      <td>070-4647-1013</td>\n",
       "      <td>3</td>\n",
       "    </tr>\n",
       "    <tr>\n",
       "      <th>3</th>\n",
       "      <td>종로정동사거리점</td>\n",
       "      <td>서울특별시 종로구 새문안로 46</td>\n",
       "      <td>NULL</td>\n",
       "      <td>3</td>\n",
       "    </tr>\n",
       "    <tr>\n",
       "      <th>4</th>\n",
       "      <td>대전대흥자이점</td>\n",
       "      <td>대전광역시 중구 충무로107번길 122</td>\n",
       "      <td>070-5056-4401</td>\n",
       "      <td>3</td>\n",
       "    </tr>\n",
       "    <tr>\n",
       "      <th>...</th>\n",
       "      <td>...</td>\n",
       "      <td>...</td>\n",
       "      <td>...</td>\n",
       "      <td>...</td>\n",
       "    </tr>\n",
       "    <tr>\n",
       "      <th>1699</th>\n",
       "      <td>신대방삼거리점</td>\n",
       "      <td>서울특별시 동작구 국사봉1길 28</td>\n",
       "      <td>02-825-5077</td>\n",
       "      <td>3</td>\n",
       "    </tr>\n",
       "    <tr>\n",
       "      <th>1700</th>\n",
       "      <td>충남대병원점</td>\n",
       "      <td>대전광역시 중구 계룡로920번길 36</td>\n",
       "      <td>042-220-5901</td>\n",
       "      <td>3</td>\n",
       "    </tr>\n",
       "    <tr>\n",
       "      <th>1701</th>\n",
       "      <td>태평로점</td>\n",
       "      <td>서울시 중구 세종대로 82, 1층</td>\n",
       "      <td>02-318-3323</td>\n",
       "      <td>3</td>\n",
       "    </tr>\n",
       "    <tr>\n",
       "      <th>1702</th>\n",
       "      <td>구미상모점</td>\n",
       "      <td>경상북도 구미시 상사서로 77, 1층</td>\n",
       "      <td>054-465-5460</td>\n",
       "      <td>3</td>\n",
       "    </tr>\n",
       "    <tr>\n",
       "      <th>1703</th>\n",
       "      <td>천안불당중앙점</td>\n",
       "      <td>충청남도 천안시 서북구 검은들3길 58, 매가클래스블루 1층</td>\n",
       "      <td>041-556-0410</td>\n",
       "      <td>3</td>\n",
       "    </tr>\n",
       "  </tbody>\n",
       "</table>\n",
       "<p>1704 rows × 4 columns</p>\n",
       "</div>"
      ],
      "text/plain": [
       "     francise_name                      francise_addr   francise_tel  \\\n",
       "0            둔촌동역점                  서울시 강동구 양재대로 1367    02-478-1205   \n",
       "1         김제모다아울렛점          전북특별자치도 김제시 용지면 콩쥐팥쥐로 844   063-770-8989   \n",
       "2          시흥배곧한라점               경기도 시흥시 서울대학로 172-20  070-4647-1013   \n",
       "3         종로정동사거리점                  서울특별시 종로구 새문안로 46           NULL   \n",
       "4          대전대흥자이점              대전광역시 중구 충무로107번길 122  070-5056-4401   \n",
       "...            ...                                ...            ...   \n",
       "1699       신대방삼거리점                 서울특별시 동작구 국사봉1길 28    02-825-5077   \n",
       "1700        충남대병원점               대전광역시 중구 계룡로920번길 36   042-220-5901   \n",
       "1701          태평로점                 서울시 중구 세종대로 82, 1층    02-318-3323   \n",
       "1702         구미상모점               경상북도 구미시 상사서로 77, 1층   054-465-5460   \n",
       "1703       천안불당중앙점  충청남도 천안시 서북구 검은들3길 58, 매가클래스블루 1층   041-556-0410   \n",
       "\n",
       "      cafe_gubun  \n",
       "0              3  \n",
       "1              3  \n",
       "2              3  \n",
       "3              3  \n",
       "4              3  \n",
       "...          ...  \n",
       "1699           3  \n",
       "1700           3  \n",
       "1701           3  \n",
       "1702           3  \n",
       "1703           3  \n",
       "\n",
       "[1704 rows x 4 columns]"
      ]
     },
     "execution_count": 19,
     "metadata": {},
     "output_type": "execute_result"
    }
   ],
   "source": [
    "paik_df_ver2"
   ]
  },
  {
   "cell_type": "markdown",
   "metadata": {},
   "source": [
    "### 데이터 삽입"
   ]
  },
  {
   "cell_type": "markdown",
   "metadata": {},
   "source": [
    "#### MSSQL 연결"
   ]
  },
  {
   "cell_type": "code",
   "execution_count": 21,
   "metadata": {},
   "outputs": [],
   "source": [
    "load_dotenv()\n",
    "\n",
    "config = {\n",
    "    'server' : os.getenv('host'),\n",
    "    'database' : os.getenv('database'),\n",
    "    'username' : os.getenv('user'),\n",
    "    'password' : os.getenv('password'),\n",
    "    'driver' : 'ODBC Driver 17 for SQL Server',\n",
    "    'port' : os.getenv('db_port')\n",
    "}\n",
    "\n",
    "conn_str = f\"DRIVER={config['driver']};SERVER={config['server']};DATABASE={config['database']};UID={config['username']};PWD={config['password']}\"\n",
    "conn = pyodbc.connect(conn_str)\n",
    "cursor = conn.cursor()\n"
   ]
  },
  {
   "cell_type": "markdown",
   "metadata": {},
   "source": [
    "#### 컴포즈 커피"
   ]
  },
  {
   "cell_type": "code",
   "execution_count": 24,
   "metadata": {},
   "outputs": [
    {
     "name": "stderr",
     "output_type": "stream",
     "text": [
      "C:\\Users\\Public\\Documents\\ESTsoft\\CreatorTemp\\ipykernel_24256\\21878654.py:2: FutureWarning: Series.__getitem__ treating keys as positions is deprecated. In a future version, integer keys will always be treated as labels (consistent with DataFrame behavior). To access a value by position, use `ser.iloc[pos]`\n",
      "  name = i[0]\n",
      "C:\\Users\\Public\\Documents\\ESTsoft\\CreatorTemp\\ipykernel_24256\\21878654.py:3: FutureWarning: Series.__getitem__ treating keys as positions is deprecated. In a future version, integer keys will always be treated as labels (consistent with DataFrame behavior). To access a value by position, use `ser.iloc[pos]`\n",
      "  addr = i[1]\n",
      "C:\\Users\\Public\\Documents\\ESTsoft\\CreatorTemp\\ipykernel_24256\\21878654.py:4: FutureWarning: Series.__getitem__ treating keys as positions is deprecated. In a future version, integer keys will always be treated as labels (consistent with DataFrame behavior). To access a value by position, use `ser.iloc[pos]`\n",
      "  tel = i[2]\n",
      "C:\\Users\\Public\\Documents\\ESTsoft\\CreatorTemp\\ipykernel_24256\\21878654.py:5: FutureWarning: Series.__getitem__ treating keys as positions is deprecated. In a future version, integer keys will always be treated as labels (consistent with DataFrame behavior). To access a value by position, use `ser.iloc[pos]`\n",
      "  gubun = i[3]\n"
     ]
    }
   ],
   "source": [
    "for _, i in compose_df_ver2.iterrows():\n",
    "    name = i[0]\n",
    "    addr = i[1]\n",
    "    tel = i[2]\n",
    "    gubun = i[3]\n",
    "    cursor.execute('''\n",
    "                   INSERT INTO tbCafeList(francise_name, francise_addr, francise_tel, cafe_gubun)\n",
    "                   VALUES(?, ?, ?, ?)\n",
    "                   ''', (name, addr, tel, gubun)\n",
    "                   )\n",
    "    \n",
    "conn.commit()"
   ]
  },
  {
   "cell_type": "markdown",
   "metadata": {},
   "source": [
    "#### 메가 커피"
   ]
  },
  {
   "cell_type": "code",
   "execution_count": 25,
   "metadata": {},
   "outputs": [
    {
     "name": "stderr",
     "output_type": "stream",
     "text": [
      "C:\\Users\\Public\\Documents\\ESTsoft\\CreatorTemp\\ipykernel_24256\\1547063657.py:2: FutureWarning: Series.__getitem__ treating keys as positions is deprecated. In a future version, integer keys will always be treated as labels (consistent with DataFrame behavior). To access a value by position, use `ser.iloc[pos]`\n",
      "  name = i[0]\n",
      "C:\\Users\\Public\\Documents\\ESTsoft\\CreatorTemp\\ipykernel_24256\\1547063657.py:3: FutureWarning: Series.__getitem__ treating keys as positions is deprecated. In a future version, integer keys will always be treated as labels (consistent with DataFrame behavior). To access a value by position, use `ser.iloc[pos]`\n",
      "  addr = i[1]\n",
      "C:\\Users\\Public\\Documents\\ESTsoft\\CreatorTemp\\ipykernel_24256\\1547063657.py:4: FutureWarning: Series.__getitem__ treating keys as positions is deprecated. In a future version, integer keys will always be treated as labels (consistent with DataFrame behavior). To access a value by position, use `ser.iloc[pos]`\n",
      "  tel = i[2]\n",
      "C:\\Users\\Public\\Documents\\ESTsoft\\CreatorTemp\\ipykernel_24256\\1547063657.py:5: FutureWarning: Series.__getitem__ treating keys as positions is deprecated. In a future version, integer keys will always be treated as labels (consistent with DataFrame behavior). To access a value by position, use `ser.iloc[pos]`\n",
      "  gubun = i[3]\n"
     ]
    }
   ],
   "source": [
    "for _, i in mega_df_ver2.iterrows():\n",
    "    name = i[0]\n",
    "    addr = i[1]\n",
    "    tel = i[2]\n",
    "    gubun = i[3]\n",
    "    cursor.execute('''\n",
    "                INSERT INTO tbCafeList(francise_name, francise_addr, francise_tel, cafe_gubun)\n",
    "                values (?, ?, ?, ?)\n",
    "                 ''', (name, addr, tel, gubun)\n",
    "                )\n",
    "    \n",
    "conn.commit()\n",
    "    \n"
   ]
  },
  {
   "cell_type": "markdown",
   "metadata": {},
   "source": [
    "#### 빽다방"
   ]
  },
  {
   "cell_type": "code",
   "execution_count": 26,
   "metadata": {},
   "outputs": [
    {
     "name": "stderr",
     "output_type": "stream",
     "text": [
      "C:\\Users\\Public\\Documents\\ESTsoft\\CreatorTemp\\ipykernel_24256\\4029981904.py:2: FutureWarning: Series.__getitem__ treating keys as positions is deprecated. In a future version, integer keys will always be treated as labels (consistent with DataFrame behavior). To access a value by position, use `ser.iloc[pos]`\n",
      "  name = i[0]\n",
      "C:\\Users\\Public\\Documents\\ESTsoft\\CreatorTemp\\ipykernel_24256\\4029981904.py:3: FutureWarning: Series.__getitem__ treating keys as positions is deprecated. In a future version, integer keys will always be treated as labels (consistent with DataFrame behavior). To access a value by position, use `ser.iloc[pos]`\n",
      "  addr = i[1]\n",
      "C:\\Users\\Public\\Documents\\ESTsoft\\CreatorTemp\\ipykernel_24256\\4029981904.py:4: FutureWarning: Series.__getitem__ treating keys as positions is deprecated. In a future version, integer keys will always be treated as labels (consistent with DataFrame behavior). To access a value by position, use `ser.iloc[pos]`\n",
      "  tel = i[2]\n",
      "C:\\Users\\Public\\Documents\\ESTsoft\\CreatorTemp\\ipykernel_24256\\4029981904.py:5: FutureWarning: Series.__getitem__ treating keys as positions is deprecated. In a future version, integer keys will always be treated as labels (consistent with DataFrame behavior). To access a value by position, use `ser.iloc[pos]`\n",
      "  gubun = i[3]\n"
     ]
    }
   ],
   "source": [
    "for _, i in paik_df_ver2.iterrows():\n",
    "    name = i[0]\n",
    "    addr = i[1]\n",
    "    tel = i[2]\n",
    "    gubun = i[3]\n",
    "\n",
    "    cursor.execute('''\n",
    "                   INSERT INTO tbCafeList(francise_name, francise_addr, francise_tel, cafe_gubun)\n",
    "                   values(?, ?, ?, ?)\n",
    "                   ''', (name, addr, tel, gubun)\n",
    "                   )\n",
    "    \n",
    "conn.commit()"
   ]
  },
  {
   "cell_type": "markdown",
   "metadata": {},
   "source": [
    "#### MySQL 연결"
   ]
  },
  {
   "cell_type": "code",
   "execution_count": null,
   "metadata": {},
   "outputs": [
    {
     "data": {
      "text/plain": [
       "<pymysql.cursors.Cursor at 0x1d5e5263a90>"
      ]
     },
     "execution_count": 100,
     "metadata": {},
     "output_type": "execute_result"
    }
   ],
   "source": [
    "# DB 연결하자\n",
    "load_dotenv()\n",
    "\n",
    "config = {\n",
    "    'user' : os.getenv('user'),\n",
    "    'password' : os.getenv('password'),\n",
    "    'host' : 'localhost',\n",
    "    'database' : 'cheapcoffee'\n",
    "}\n",
    "\n",
    "conn = pymysql.connect(**config)\n",
    "cursor = conn.cursor()\n",
    "cursor"
   ]
  },
  {
   "cell_type": "markdown",
   "metadata": {},
   "source": [
    "#### 컴포즈 커피 삽입"
   ]
  },
  {
   "cell_type": "code",
   "execution_count": null,
   "metadata": {},
   "outputs": [
    {
     "name": "stderr",
     "output_type": "stream",
     "text": [
      "C:\\Users\\Public\\Documents\\ESTsoft\\CreatorTemp\\ipykernel_16092\\1261172119.py:2: FutureWarning: Series.__getitem__ treating keys as positions is deprecated. In a future version, integer keys will always be treated as labels (consistent with DataFrame behavior). To access a value by position, use `ser.iloc[pos]`\n",
      "  name = i[1][0]\n",
      "C:\\Users\\Public\\Documents\\ESTsoft\\CreatorTemp\\ipykernel_16092\\1261172119.py:3: FutureWarning: Series.__getitem__ treating keys as positions is deprecated. In a future version, integer keys will always be treated as labels (consistent with DataFrame behavior). To access a value by position, use `ser.iloc[pos]`\n",
      "  addr = i[1][1]\n",
      "C:\\Users\\Public\\Documents\\ESTsoft\\CreatorTemp\\ipykernel_16092\\1261172119.py:4: FutureWarning: Series.__getitem__ treating keys as positions is deprecated. In a future version, integer keys will always be treated as labels (consistent with DataFrame behavior). To access a value by position, use `ser.iloc[pos]`\n",
      "  tel = i[1][2]\n",
      "C:\\Users\\Public\\Documents\\ESTsoft\\CreatorTemp\\ipykernel_16092\\1261172119.py:5: FutureWarning: Series.__getitem__ treating keys as positions is deprecated. In a future version, integer keys will always be treated as labels (consistent with DataFrame behavior). To access a value by position, use `ser.iloc[pos]`\n",
      "  gubun = i[1][3]\n"
     ]
    }
   ],
   "source": [
    "for i in compose_df_ver2.iterrows():\n",
    "    name = i[1][0]\n",
    "    addr = i[1][1]\n",
    "    tel = i[1][2]\n",
    "    gubun = i[1][3]\n",
    "    cursor.execute('''\n",
    "                   INSERT INTO tbCafeList(francise_name, francise_addr, francise_tel, cafe_gubun)\n",
    "                   VALUES(%s, %s, %s, %s)\n",
    "                   ''', (name, addr, tel, gubun)\n",
    "                   )\n",
    "    \n",
    "conn.commit()"
   ]
  },
  {
   "cell_type": "markdown",
   "metadata": {},
   "source": [
    "#### 메가 커피 삽입"
   ]
  },
  {
   "cell_type": "code",
   "execution_count": null,
   "metadata": {},
   "outputs": [
    {
     "name": "stderr",
     "output_type": "stream",
     "text": [
      "C:\\Users\\Public\\Documents\\ESTsoft\\CreatorTemp\\ipykernel_16092\\432902159.py:2: FutureWarning: Series.__getitem__ treating keys as positions is deprecated. In a future version, integer keys will always be treated as labels (consistent with DataFrame behavior). To access a value by position, use `ser.iloc[pos]`\n",
      "  name = i[1][0]\n",
      "C:\\Users\\Public\\Documents\\ESTsoft\\CreatorTemp\\ipykernel_16092\\432902159.py:3: FutureWarning: Series.__getitem__ treating keys as positions is deprecated. In a future version, integer keys will always be treated as labels (consistent with DataFrame behavior). To access a value by position, use `ser.iloc[pos]`\n",
      "  addr = i[1][1]\n",
      "C:\\Users\\Public\\Documents\\ESTsoft\\CreatorTemp\\ipykernel_16092\\432902159.py:4: FutureWarning: Series.__getitem__ treating keys as positions is deprecated. In a future version, integer keys will always be treated as labels (consistent with DataFrame behavior). To access a value by position, use `ser.iloc[pos]`\n",
      "  tel = i[1][2]\n",
      "C:\\Users\\Public\\Documents\\ESTsoft\\CreatorTemp\\ipykernel_16092\\432902159.py:5: FutureWarning: Series.__getitem__ treating keys as positions is deprecated. In a future version, integer keys will always be treated as labels (consistent with DataFrame behavior). To access a value by position, use `ser.iloc[pos]`\n",
      "  gubun = i[1][3]\n"
     ]
    }
   ],
   "source": [
    "for i in mega_df_ver2.iterrows():\n",
    "    name = i[1][0]\n",
    "    addr = i[1][1]\n",
    "    tel = i[1][2]\n",
    "    gubun = i[1][3]\n",
    "    cursor.execute('''\n",
    "                INSERT INTO tbCafeList(francise_name, francise_addr, francise_tel, cafe_gubun)\n",
    "                values (%s, %s, %s, %s)\n",
    "                 ''', (name, addr, tel, gubun)\n",
    "                )\n",
    "    \n",
    "conn.commit()\n",
    "    \n"
   ]
  },
  {
   "cell_type": "markdown",
   "metadata": {},
   "source": [
    "#### 빽다방"
   ]
  },
  {
   "cell_type": "code",
   "execution_count": 108,
   "metadata": {},
   "outputs": [
    {
     "name": "stderr",
     "output_type": "stream",
     "text": [
      "C:\\Users\\Public\\Documents\\ESTsoft\\CreatorTemp\\ipykernel_16092\\1586445102.py:2: FutureWarning: Series.__getitem__ treating keys as positions is deprecated. In a future version, integer keys will always be treated as labels (consistent with DataFrame behavior). To access a value by position, use `ser.iloc[pos]`\n",
      "  name = i[1][0]\n",
      "C:\\Users\\Public\\Documents\\ESTsoft\\CreatorTemp\\ipykernel_16092\\1586445102.py:3: FutureWarning: Series.__getitem__ treating keys as positions is deprecated. In a future version, integer keys will always be treated as labels (consistent with DataFrame behavior). To access a value by position, use `ser.iloc[pos]`\n",
      "  addr = i[1][1]\n",
      "C:\\Users\\Public\\Documents\\ESTsoft\\CreatorTemp\\ipykernel_16092\\1586445102.py:4: FutureWarning: Series.__getitem__ treating keys as positions is deprecated. In a future version, integer keys will always be treated as labels (consistent with DataFrame behavior). To access a value by position, use `ser.iloc[pos]`\n",
      "  tel = i[1][2]\n",
      "C:\\Users\\Public\\Documents\\ESTsoft\\CreatorTemp\\ipykernel_16092\\1586445102.py:5: FutureWarning: Series.__getitem__ treating keys as positions is deprecated. In a future version, integer keys will always be treated as labels (consistent with DataFrame behavior). To access a value by position, use `ser.iloc[pos]`\n",
      "  gubun = i[1][3]\n"
     ]
    }
   ],
   "source": [
    "for i in paik_df_ver2.iterrows():\n",
    "    name = i[1][0]\n",
    "    addr = i[1][1]\n",
    "    tel = i[1][2]\n",
    "    gubun = i[1][3]\n",
    "\n",
    "    cursor.execute('''\n",
    "                   INSERT INTO tbCafeList(francise_name, francise_addr, francise_tel, cafe_gubun)\n",
    "                   values(%s,%s,%s,%s)\n",
    "                   ''', (name, addr, tel, gubun)\n",
    "                   )\n",
    "    \n",
    "conn.commit()"
   ]
  },
  {
   "cell_type": "code",
   "execution_count": 105,
   "metadata": {},
   "outputs": [
    {
     "data": {
      "text/html": [
       "<div>\n",
       "<style scoped>\n",
       "    .dataframe tbody tr th:only-of-type {\n",
       "        vertical-align: middle;\n",
       "    }\n",
       "\n",
       "    .dataframe tbody tr th {\n",
       "        vertical-align: top;\n",
       "    }\n",
       "\n",
       "    .dataframe thead th {\n",
       "        text-align: right;\n",
       "    }\n",
       "</style>\n",
       "<table border=\"1\" class=\"dataframe\">\n",
       "  <thead>\n",
       "    <tr style=\"text-align: right;\">\n",
       "      <th></th>\n",
       "      <th>francise_name</th>\n",
       "      <th>francise_addr</th>\n",
       "      <th>francise_tel</th>\n",
       "      <th>cafe_gubun</th>\n",
       "    </tr>\n",
       "  </thead>\n",
       "  <tbody>\n",
       "    <tr>\n",
       "      <th>0</th>\n",
       "      <td>둔촌동역점</td>\n",
       "      <td>서울시 강동구 양재대로 1367</td>\n",
       "      <td>02-478-1205</td>\n",
       "      <td>3</td>\n",
       "    </tr>\n",
       "    <tr>\n",
       "      <th>1</th>\n",
       "      <td>김제모다아울렛점</td>\n",
       "      <td>전북특별자치도 김제시 용지면 콩쥐팥쥐로 844</td>\n",
       "      <td>063-770-8989</td>\n",
       "      <td>3</td>\n",
       "    </tr>\n",
       "    <tr>\n",
       "      <th>2</th>\n",
       "      <td>시흥배곧한라점</td>\n",
       "      <td>경기도 시흥시 서울대학로 172-20</td>\n",
       "      <td>070-4647-1013</td>\n",
       "      <td>3</td>\n",
       "    </tr>\n",
       "    <tr>\n",
       "      <th>3</th>\n",
       "      <td>종로정동사거리점</td>\n",
       "      <td>서울특별시 종로구 새문안로 46</td>\n",
       "      <td>NULL</td>\n",
       "      <td>3</td>\n",
       "    </tr>\n",
       "    <tr>\n",
       "      <th>4</th>\n",
       "      <td>대전대흥자이점</td>\n",
       "      <td>대전광역시 중구 충무로107번길 122</td>\n",
       "      <td>070-5056-4401</td>\n",
       "      <td>3</td>\n",
       "    </tr>\n",
       "    <tr>\n",
       "      <th>...</th>\n",
       "      <td>...</td>\n",
       "      <td>...</td>\n",
       "      <td>...</td>\n",
       "      <td>...</td>\n",
       "    </tr>\n",
       "    <tr>\n",
       "      <th>1699</th>\n",
       "      <td>신대방삼거리점</td>\n",
       "      <td>서울특별시 동작구 국사봉1길 28</td>\n",
       "      <td>02-825-5077</td>\n",
       "      <td>3</td>\n",
       "    </tr>\n",
       "    <tr>\n",
       "      <th>1700</th>\n",
       "      <td>충남대병원점</td>\n",
       "      <td>대전광역시 중구 계룡로920번길 36</td>\n",
       "      <td>042-220-5901</td>\n",
       "      <td>3</td>\n",
       "    </tr>\n",
       "    <tr>\n",
       "      <th>1701</th>\n",
       "      <td>태평로점</td>\n",
       "      <td>서울시 중구 세종대로 82, 1층</td>\n",
       "      <td>02-318-3323</td>\n",
       "      <td>3</td>\n",
       "    </tr>\n",
       "    <tr>\n",
       "      <th>1702</th>\n",
       "      <td>구미상모점</td>\n",
       "      <td>경상북도 구미시 상사서로 77, 1층</td>\n",
       "      <td>054-465-5460</td>\n",
       "      <td>3</td>\n",
       "    </tr>\n",
       "    <tr>\n",
       "      <th>1703</th>\n",
       "      <td>천안불당중앙점</td>\n",
       "      <td>충청남도 천안시 서북구 검은들3길 58, 매가클래스블루 1층</td>\n",
       "      <td>041-556-0410</td>\n",
       "      <td>3</td>\n",
       "    </tr>\n",
       "  </tbody>\n",
       "</table>\n",
       "<p>1704 rows × 4 columns</p>\n",
       "</div>"
      ],
      "text/plain": [
       "     francise_name                      francise_addr   francise_tel  \\\n",
       "0            둔촌동역점                  서울시 강동구 양재대로 1367    02-478-1205   \n",
       "1         김제모다아울렛점          전북특별자치도 김제시 용지면 콩쥐팥쥐로 844   063-770-8989   \n",
       "2          시흥배곧한라점               경기도 시흥시 서울대학로 172-20  070-4647-1013   \n",
       "3         종로정동사거리점                  서울특별시 종로구 새문안로 46           NULL   \n",
       "4          대전대흥자이점              대전광역시 중구 충무로107번길 122  070-5056-4401   \n",
       "...            ...                                ...            ...   \n",
       "1699       신대방삼거리점                 서울특별시 동작구 국사봉1길 28    02-825-5077   \n",
       "1700        충남대병원점               대전광역시 중구 계룡로920번길 36   042-220-5901   \n",
       "1701          태평로점                 서울시 중구 세종대로 82, 1층    02-318-3323   \n",
       "1702         구미상모점               경상북도 구미시 상사서로 77, 1층   054-465-5460   \n",
       "1703       천안불당중앙점  충청남도 천안시 서북구 검은들3길 58, 매가클래스블루 1층   041-556-0410   \n",
       "\n",
       "      cafe_gubun  \n",
       "0              3  \n",
       "1              3  \n",
       "2              3  \n",
       "3              3  \n",
       "4              3  \n",
       "...          ...  \n",
       "1699           3  \n",
       "1700           3  \n",
       "1701           3  \n",
       "1702           3  \n",
       "1703           3  \n",
       "\n",
       "[1704 rows x 4 columns]"
      ]
     },
     "execution_count": 105,
     "metadata": {},
     "output_type": "execute_result"
    }
   ],
   "source": [
    "paik_df_ver2"
   ]
  }
 ],
 "metadata": {
  "kernelspec": {
   "display_name": "django",
   "language": "python",
   "name": "python3"
  },
  "language_info": {
   "codemirror_mode": {
    "name": "ipython",
    "version": 3
   },
   "file_extension": ".py",
   "mimetype": "text/x-python",
   "name": "python",
   "nbconvert_exporter": "python",
   "pygments_lexer": "ipython3",
   "version": "3.11.10"
  }
 },
 "nbformat": 4,
 "nbformat_minor": 2
}
