{
 "cells": [
  {
   "cell_type": "code",
   "execution_count": 38,
   "metadata": {},
   "outputs": [],
   "source": [
    "import requests\n",
    "from bs4 import BeautifulSoup\n",
    "\n",
    "import selenium\n",
    "from selenium import webdriver\n",
    "from selenium.webdriver.chrome.options import Options\n",
    "from selenium.webdriver.common.by import By\n",
    "from selenium.webdriver.common.keys import Keys\n",
    "from selenium.webdriver.support.wait import WebDriverWait\n",
    "from selenium.webdriver.support import expected_conditions as EC\n",
    "\n",
    "import pandas as pd\n",
    "\n"
   ]
  },
  {
   "cell_type": "code",
   "execution_count": 42,
   "metadata": {},
   "outputs": [],
   "source": [
    "url = 'https://paikdabang.com/store/'\n",
    "chrome_option = Options()\n",
    "chrome_option.add_experimental_option('detach', True)\n",
    "\n",
    "driver = webdriver.Chrome(options=chrome_option)\n",
    "driver.get(url)"
   ]
  },
  {
   "cell_type": "code",
   "execution_count": 142,
   "metadata": {},
   "outputs": [
    {
     "name": "stdout",
     "output_type": "stream",
     "text": [
      "기다림~\n",
      "['1', '2', '3', '4', '5']\n",
      "[['광양성황점', '전라남도 광양시 성황6길 28', '061-795-9582'], ['청주가경아이파크점', '충청북도 청주시 흥덕구 서현로 60', '070-7798-1153'], ['인천가정고점', '인천광역시 서구 서달로163번길 4', '070-5055-0666'], ['세종조치원역점', '세종특별자치시 조치원읍 으뜸길 208', '044-865-4123'], ['연남센트럴점', '서울 마포구 성미산로 55', '070-8880-8080'], ['석촌배명점', '서울특별시 송파구 삼학사로 42 ', '02-422-4263'], ['인천부개코오롱점', '인천광역시 부평구 부평문화로 216', '070-5222-2155'], ['용인신갈롯데점', '경기도 용인시 기흥구 중부대로 375', '031-282-2821'], ['장수장계점', '전북특별자치도 장수군 장계면 한들로 90-1', 'NULL'], ['창원가음한림풀에버점', '경상남도 창원시 성산구 가음정로23번길 10-21', '070-7777-9787']]\n",
      "기다림~\n",
      "['1', '2', '3', '4', '5']\n"
     ]
    },
    {
     "ename": "StaleElementReferenceException",
     "evalue": "Message: stale element reference: stale element not found in the current frame\n  (Session info: chrome=131.0.6778.86); For documentation on this error, please visit: https://www.selenium.dev/documentation/webdriver/troubleshooting/errors#stale-element-reference-exception\nStacktrace:\n\tGetHandleVerifier [0x00007FF6A64D6CB5+28821]\n\t(No symbol) [0x00007FF6A6443840]\n\t(No symbol) [0x00007FF6A62E578A]\n\t(No symbol) [0x00007FF6A62EC2ED]\n\t(No symbol) [0x00007FF6A62EEFCC]\n\t(No symbol) [0x00007FF6A62EF09F]\n\t(No symbol) [0x00007FF6A6340D79]\n\t(No symbol) [0x00007FF6A633E359]\n\t(No symbol) [0x00007FF6A633BAF6]\n\t(No symbol) [0x00007FF6A633AA51]\n\t(No symbol) [0x00007FF6A632CBA0]\n\t(No symbol) [0x00007FF6A635F2FA]\n\t(No symbol) [0x00007FF6A632C3F6]\n\t(No symbol) [0x00007FF6A635F510]\n\t(No symbol) [0x00007FF6A637F412]\n\t(No symbol) [0x00007FF6A635F0A3]\n\t(No symbol) [0x00007FF6A632A778]\n\t(No symbol) [0x00007FF6A632B8E1]\n\tGetHandleVerifier [0x00007FF6A680FCAD+3408013]\n\tGetHandleVerifier [0x00007FF6A682741F+3504127]\n\tGetHandleVerifier [0x00007FF6A681B5FD+3455453]\n\tGetHandleVerifier [0x00007FF6A659BDBB+835995]\n\t(No symbol) [0x00007FF6A644EB5F]\n\t(No symbol) [0x00007FF6A644A814]\n\t(No symbol) [0x00007FF6A644A9AD]\n\t(No symbol) [0x00007FF6A643A199]\n\tBaseThreadInitThunk [0x00007FFF92877374+20]\n\tRtlUserThreadStart [0x00007FFF9475CC91+33]\n",
     "output_type": "error",
     "traceback": [
      "\u001b[1;31m---------------------------------------------------------------------------\u001b[0m",
      "\u001b[1;31mStaleElementReferenceException\u001b[0m            Traceback (most recent call last)",
      "Cell \u001b[1;32mIn[142], line 78\u001b[0m\n\u001b[0;32m     74\u001b[0m wait\u001b[38;5;241m.\u001b[39muntil(\n\u001b[0;32m     75\u001b[0m     EC\u001b[38;5;241m.\u001b[39mpresence_of_element_located((By\u001b[38;5;241m.\u001b[39mCSS_SELECTOR, \u001b[38;5;124m'\u001b[39m\u001b[38;5;124m.page-numbers\u001b[39m\u001b[38;5;124m'\u001b[39m))\n\u001b[0;32m     76\u001b[0m )\n\u001b[0;32m     77\u001b[0m page_driver \u001b[38;5;241m=\u001b[39m driver\u001b[38;5;241m.\u001b[39mfind_elements(By\u001b[38;5;241m.\u001b[39mCSS_SELECTOR, \u001b[38;5;124m'\u001b[39m\u001b[38;5;124m.page-numbers\u001b[39m\u001b[38;5;124m'\u001b[39m)\n\u001b[1;32m---> 78\u001b[0m \u001b[43mpage_driver\u001b[49m\u001b[43m[\u001b[49m\u001b[43mcurrent_page\u001b[49m\u001b[38;5;241;43m+\u001b[39;49m\u001b[38;5;241;43m1\u001b[39;49m\u001b[43m]\u001b[49m\u001b[38;5;241;43m.\u001b[39;49m\u001b[43mclick\u001b[49m\u001b[43m(\u001b[49m\u001b[43m)\u001b[49m\n\u001b[0;32m     80\u001b[0m \u001b[38;5;28mprint\u001b[39m(final_list)\n\u001b[0;32m     81\u001b[0m current_page \u001b[38;5;241m+\u001b[39m\u001b[38;5;241m=\u001b[39m\u001b[38;5;241m1\u001b[39m\n",
      "File \u001b[1;32mc:\\Users\\YJ\\.conda\\envs\\django\\Lib\\site-packages\\selenium\\webdriver\\remote\\webelement.py:94\u001b[0m, in \u001b[0;36mWebElement.click\u001b[1;34m(self)\u001b[0m\n\u001b[0;32m     92\u001b[0m \u001b[38;5;28;01mdef\u001b[39;00m \u001b[38;5;21mclick\u001b[39m(\u001b[38;5;28mself\u001b[39m) \u001b[38;5;241m-\u001b[39m\u001b[38;5;241m>\u001b[39m \u001b[38;5;28;01mNone\u001b[39;00m:\n\u001b[0;32m     93\u001b[0m \u001b[38;5;250m    \u001b[39m\u001b[38;5;124;03m\"\"\"Clicks the element.\"\"\"\u001b[39;00m\n\u001b[1;32m---> 94\u001b[0m     \u001b[38;5;28;43mself\u001b[39;49m\u001b[38;5;241;43m.\u001b[39;49m\u001b[43m_execute\u001b[49m\u001b[43m(\u001b[49m\u001b[43mCommand\u001b[49m\u001b[38;5;241;43m.\u001b[39;49m\u001b[43mCLICK_ELEMENT\u001b[49m\u001b[43m)\u001b[49m\n",
      "File \u001b[1;32mc:\\Users\\YJ\\.conda\\envs\\django\\Lib\\site-packages\\selenium\\webdriver\\remote\\webelement.py:395\u001b[0m, in \u001b[0;36mWebElement._execute\u001b[1;34m(self, command, params)\u001b[0m\n\u001b[0;32m    393\u001b[0m     params \u001b[38;5;241m=\u001b[39m {}\n\u001b[0;32m    394\u001b[0m params[\u001b[38;5;124m\"\u001b[39m\u001b[38;5;124mid\u001b[39m\u001b[38;5;124m\"\u001b[39m] \u001b[38;5;241m=\u001b[39m \u001b[38;5;28mself\u001b[39m\u001b[38;5;241m.\u001b[39m_id\n\u001b[1;32m--> 395\u001b[0m \u001b[38;5;28;01mreturn\u001b[39;00m \u001b[38;5;28;43mself\u001b[39;49m\u001b[38;5;241;43m.\u001b[39;49m\u001b[43m_parent\u001b[49m\u001b[38;5;241;43m.\u001b[39;49m\u001b[43mexecute\u001b[49m\u001b[43m(\u001b[49m\u001b[43mcommand\u001b[49m\u001b[43m,\u001b[49m\u001b[43m \u001b[49m\u001b[43mparams\u001b[49m\u001b[43m)\u001b[49m\n",
      "File \u001b[1;32mc:\\Users\\YJ\\.conda\\envs\\django\\Lib\\site-packages\\selenium\\webdriver\\remote\\webdriver.py:380\u001b[0m, in \u001b[0;36mWebDriver.execute\u001b[1;34m(self, driver_command, params)\u001b[0m\n\u001b[0;32m    378\u001b[0m response \u001b[38;5;241m=\u001b[39m \u001b[38;5;28mself\u001b[39m\u001b[38;5;241m.\u001b[39mcommand_executor\u001b[38;5;241m.\u001b[39mexecute(driver_command, params)\n\u001b[0;32m    379\u001b[0m \u001b[38;5;28;01mif\u001b[39;00m response:\n\u001b[1;32m--> 380\u001b[0m     \u001b[38;5;28;43mself\u001b[39;49m\u001b[38;5;241;43m.\u001b[39;49m\u001b[43merror_handler\u001b[49m\u001b[38;5;241;43m.\u001b[39;49m\u001b[43mcheck_response\u001b[49m\u001b[43m(\u001b[49m\u001b[43mresponse\u001b[49m\u001b[43m)\u001b[49m\n\u001b[0;32m    381\u001b[0m     response[\u001b[38;5;124m\"\u001b[39m\u001b[38;5;124mvalue\u001b[39m\u001b[38;5;124m\"\u001b[39m] \u001b[38;5;241m=\u001b[39m \u001b[38;5;28mself\u001b[39m\u001b[38;5;241m.\u001b[39m_unwrap_value(response\u001b[38;5;241m.\u001b[39mget(\u001b[38;5;124m\"\u001b[39m\u001b[38;5;124mvalue\u001b[39m\u001b[38;5;124m\"\u001b[39m, \u001b[38;5;28;01mNone\u001b[39;00m))\n\u001b[0;32m    382\u001b[0m     \u001b[38;5;28;01mreturn\u001b[39;00m response\n",
      "File \u001b[1;32mc:\\Users\\YJ\\.conda\\envs\\django\\Lib\\site-packages\\selenium\\webdriver\\remote\\errorhandler.py:229\u001b[0m, in \u001b[0;36mErrorHandler.check_response\u001b[1;34m(self, response)\u001b[0m\n\u001b[0;32m    227\u001b[0m         alert_text \u001b[38;5;241m=\u001b[39m value[\u001b[38;5;124m\"\u001b[39m\u001b[38;5;124malert\u001b[39m\u001b[38;5;124m\"\u001b[39m]\u001b[38;5;241m.\u001b[39mget(\u001b[38;5;124m\"\u001b[39m\u001b[38;5;124mtext\u001b[39m\u001b[38;5;124m\"\u001b[39m)\n\u001b[0;32m    228\u001b[0m     \u001b[38;5;28;01mraise\u001b[39;00m exception_class(message, screen, stacktrace, alert_text)  \u001b[38;5;66;03m# type: ignore[call-arg]  # mypy is not smart enough here\u001b[39;00m\n\u001b[1;32m--> 229\u001b[0m \u001b[38;5;28;01mraise\u001b[39;00m exception_class(message, screen, stacktrace)\n",
      "\u001b[1;31mStaleElementReferenceException\u001b[0m: Message: stale element reference: stale element not found in the current frame\n  (Session info: chrome=131.0.6778.86); For documentation on this error, please visit: https://www.selenium.dev/documentation/webdriver/troubleshooting/errors#stale-element-reference-exception\nStacktrace:\n\tGetHandleVerifier [0x00007FF6A64D6CB5+28821]\n\t(No symbol) [0x00007FF6A6443840]\n\t(No symbol) [0x00007FF6A62E578A]\n\t(No symbol) [0x00007FF6A62EC2ED]\n\t(No symbol) [0x00007FF6A62EEFCC]\n\t(No symbol) [0x00007FF6A62EF09F]\n\t(No symbol) [0x00007FF6A6340D79]\n\t(No symbol) [0x00007FF6A633E359]\n\t(No symbol) [0x00007FF6A633BAF6]\n\t(No symbol) [0x00007FF6A633AA51]\n\t(No symbol) [0x00007FF6A632CBA0]\n\t(No symbol) [0x00007FF6A635F2FA]\n\t(No symbol) [0x00007FF6A632C3F6]\n\t(No symbol) [0x00007FF6A635F510]\n\t(No symbol) [0x00007FF6A637F412]\n\t(No symbol) [0x00007FF6A635F0A3]\n\t(No symbol) [0x00007FF6A632A778]\n\t(No symbol) [0x00007FF6A632B8E1]\n\tGetHandleVerifier [0x00007FF6A680FCAD+3408013]\n\tGetHandleVerifier [0x00007FF6A682741F+3504127]\n\tGetHandleVerifier [0x00007FF6A681B5FD+3455453]\n\tGetHandleVerifier [0x00007FF6A659BDBB+835995]\n\t(No symbol) [0x00007FF6A644EB5F]\n\t(No symbol) [0x00007FF6A644A814]\n\t(No symbol) [0x00007FF6A644A9AD]\n\t(No symbol) [0x00007FF6A643A199]\n\tBaseThreadInitThunk [0x00007FFF92877374+20]\n\tRtlUserThreadStart [0x00007FFF9475CC91+33]\n"
     ]
    }
   ],
   "source": [
    "paik_html = driver.page_source\n",
    "soup = BeautifulSoup(paik_html, 'html.parser')\n",
    "\n",
    "wait = WebDriverWait(driver, 10)\n",
    "\n",
    "final_list = []\n",
    "current_page = 0 #사실상 1페이지임\n",
    "wait.until(\n",
    "    EC.presence_of_element_located((By.CSS_SELECTOR, '.page-numbers'))\n",
    ")\n",
    "\n",
    "page_driver = []\n",
    "for i in driver.find_elements(By.CSS_SELECTOR, '.page-numbers'):\n",
    "    if i.text != '':\n",
    "        page_driver.append(i)\n",
    "\n",
    "max_page = 100\n",
    "current_page = 0    \n",
    "\n",
    "\n",
    "while int(page_driver[current_page].text) <= max_page:\n",
    "    wait.until(\n",
    "        EC.presence_of_element_located((By.ID, 'pagination'))\n",
    "    )\n",
    "    wait.until(\n",
    "        EC.presence_of_element_located((By.CSS_SELECTOR, '.page-numbers'))\n",
    "    )\n",
    "    print('기다림~')\n",
    "\n",
    "    # 페이지 driver 찾기\n",
    "    wait.until(\n",
    "        EC.presence_of_element_located((By.CSS_SELECTOR, '.page-numbers'))\n",
    "    )\n",
    "    page_driver = driver.find_elements(By.CSS_SELECTOR, '.page-numbers')\n",
    "\n",
    "    # 페이지 리스트\n",
    "    page_driver = driver.find_elements(By.CSS_SELECTOR, '.page-numbers')\n",
    "    page_list = [i.text for i in page_driver if i.text != '']\n",
    "    print(page_list)\n",
    "\n",
    "    page_driver = driver.find_elements(By.CSS_SELECTOR, '.page-numbers')\n",
    "    #max값 찾기\n",
    "    max_page = max([int(i.text) for i in page_driver if i.text != ''])\n",
    "\n",
    "    \n",
    "\n",
    "\n",
    "    # 지점명\n",
    "    #store_list > tr:nth-child(1) > td.td_shop\n",
    "    [i.text for i in soup.select('#store_list td.td_shop')]\n",
    "\n",
    "    # 주소\n",
    "    [i.text for i in soup.select('#store_list td.td_addr')]\n",
    "\n",
    "    # 전화번호\n",
    "    [i.text if i.text != '미등록' else 'NULL' for i in soup.select('#store_list td.td_tel')]\n",
    "    #pagination > li:nth-child(4)\n",
    "\n",
    "\n",
    "    #pagination > li:nth-child(4) > a\n",
    "    #pagination > li:nth-child(5) > a\n",
    "    #pagination > li:nth-child(6) > a\n",
    "    # 합쳐서 final_list에 담기\n",
    "\n",
    "    [final_list.append([x,y,z]) for x,y,z in zip([i.text for i in soup.select('#store_list td.td_shop')], [i.text for i in soup.select('#store_list td.td_addr')], [i.text if i.text != '미등록' else 'NULL' for i in soup.select('#store_list td.td_tel')])]\n",
    "\n",
    "\n",
    "    #pagination > li:nth-child(4)\n",
    "    #[int(i.text) for i in driver.find_elements(By.ID, '#pagination') ]\n",
    "    # for i in driver.find_elements(By.CSS_SELECTOR, '#pagination a'):\n",
    "    #     print(int(i.text)+1)\n",
    "\n",
    "    # 다음 페이지\n",
    "    wait.until(\n",
    "        EC.presence_of_element_located((By.CSS_SELECTOR, '.page-numbers'))\n",
    "    )\n",
    "    page_driver = driver.find_elements(By.CSS_SELECTOR, '.page-numbers')\n",
    "    page_driver[current_page+1].click()\n",
    "\n",
    "    print(final_list)\n",
    "    current_page +=1\n",
    "\n",
    "    # page_list = [i.text for i in next_click]\n",
    "    # print(page_list[0])\n",
    "        #pagination > li:nth-child(1) > a\n",
    "        #pagination > li:nth-child(3)\n",
    "\n",
    "\n",
    "    # for i in next_click:\n",
    "    #     previous_i = i.text\n",
    "    #     if current_page == int(i.text):\n",
    "    #         print(i.text)\n",
    "    #current_page += 1\n",
    "    # next_click[current_page+1].click()\n",
    "\n",
    "\n",
    "\n",
    "\n",
    "\n"
   ]
  },
  {
   "cell_type": "code",
   "execution_count": 103,
   "metadata": {},
   "outputs": [
    {
     "data": {
      "text/plain": [
       "['2', '3', '4', '5', '6']"
      ]
     },
     "execution_count": 103,
     "metadata": {},
     "output_type": "execute_result"
    }
   ],
   "source": [
    "page_driver = driver.find_elements(By.CSS_SELECTOR, '.page-numbers')\n",
    "[i.text for i in page_driver if i.text != '']\n",
    "    "
   ]
  },
  {
   "cell_type": "code",
   "execution_count": 140,
   "metadata": {},
   "outputs": [
    {
     "data": {
      "text/plain": [
       "1"
      ]
     },
     "execution_count": 140,
     "metadata": {},
     "output_type": "execute_result"
    }
   ],
   "source": [
    "page_driver = driver.find_elements(By.CSS_SELECTOR, '.page-numbers')\n",
    "page_list = [i.text for i in page_driver if i.text != '']\n",
    "int(page_list[0])"
   ]
  }
 ],
 "metadata": {
  "kernelspec": {
   "display_name": "django",
   "language": "python",
   "name": "python3"
  },
  "language_info": {
   "codemirror_mode": {
    "name": "ipython",
    "version": 3
   },
   "file_extension": ".py",
   "mimetype": "text/x-python",
   "name": "python",
   "nbconvert_exporter": "python",
   "pygments_lexer": "ipython3",
   "version": "3.11.10"
  }
 },
 "nbformat": 4,
 "nbformat_minor": 2
}
